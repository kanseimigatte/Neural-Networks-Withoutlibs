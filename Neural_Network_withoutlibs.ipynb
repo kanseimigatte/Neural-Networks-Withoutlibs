{
 "cells": [
  {
   "cell_type": "code",
   "execution_count": 1,
   "metadata": {
    "id": "spRKsjMr3Sp8"
   },
   "outputs": [],
   "source": [
    "# Created by GB - 10/22\n",
    "# Google Colab was used in this code\n",
    "import numpy as np\n",
    "import pandas as pd\n",
    "import PIL\n",
    "import pathlib\n",
    "import os\n",
    "import random\n",
    "import matplotlib.pyplot as plt\n",
    "import warnings\n",
    "np.random.seed(42)"
   ]
  },
  {
   "cell_type": "code",
   "execution_count": 2,
   "metadata": {
    "colab": {
     "base_uri": "https://localhost:8080/"
    },
    "id": "uy6V1eqa3YNJ",
    "outputId": "11e82e95-7b76-4a67-e90e-82b52c85e348"
   },
   "outputs": [
    {
     "name": "stdout",
     "output_type": "stream",
     "text": [
      "Drive already mounted at /content/drive/; to attempt to forcibly remount, call drive.mount(\"/content/drive/\", force_remount=True).\n"
     ]
    }
   ],
   "source": [
    "from google.colab import drive\n",
    "drive.mount('/content/drive/')\n",
    "path1 = r'/content/drive/MyDrive/Colab Notebooks/Images/iron man comics_dir_resized'\n",
    "path2 = r'/content/drive/MyDrive/Colab Notebooks/Images/spider man comics_dir_resized'"
   ]
  },
  {
   "cell_type": "code",
   "execution_count": null,
   "metadata": {
    "id": "wi7_XNy03YZQ"
   },
   "outputs": [],
   "source": [
    "    ## Preparing the data ##\n",
    "\n",
    "# Convert images into numpy arrays #\n",
    "# Concatenate the arrays #\n",
    "# Shuffle #\n",
    "# Split into train and test sets #"
   ]
  },
  {
   "cell_type": "code",
   "execution_count": 3,
   "metadata": {
    "id": "QUmkH4rM3YPm"
   },
   "outputs": [],
   "source": [
    "# Converting images to numpy arrays \n",
    "def numpy_arrays(path1,path2):\n",
    "    delimiter = chr(92)\n",
    "    path_list = []\n",
    "    arrays_list1 = []\n",
    "    arrays_list2 = []\n",
    "    path_list.append(path1)\n",
    "    path_list.append(path2)\n",
    "    counter = 0\n",
    "    for paths in range(len(path_list)):\n",
    "        listdir = os.listdir(path_list[paths])\n",
    "        counter += 1\n",
    "        for items in listdir:\n",
    "            items.split()\n",
    "            if counter == 1:\n",
    "                image = PIL.Image.open(path1+'/'+items) #problem with delimiter !WARNING!\n",
    "            else:\n",
    "                image = PIL.Image.open(path2+'/'+items)\n",
    "            image_inf = image.getdata()\n",
    "            sub_array = np.array(image_inf)\n",
    "            if counter == 1:\n",
    "                arrays_list1.append(sub_array)\n",
    "            else:\n",
    "                arrays_list2.append(sub_array)\n",
    "    \n",
    "    ones= np.ones((len(arrays_list1),), dtype=int)\n",
    "    ones = ones.tolist()\n",
    "    zeros= np.zeros((len(arrays_list2),), dtype=int)\n",
    "    zeros = zeros.tolist()\n",
    "    return arrays_list1,arrays_list2,ones,zeros"
   ]
  },
  {
   "cell_type": "code",
   "execution_count": 4,
   "metadata": {
    "id": "z9ARq_w23YSE"
   },
   "outputs": [],
   "source": [
    "def conc_lists(array1,array2,ones,zeros):\n",
    "    arrayX = array1\n",
    "    arrayY = ones\n",
    "    for i in range(len(array2)):\n",
    "        arrayX.append(array2[i])\n",
    "    for x in range(len(zeros)):\n",
    "        arrayY.append(zeros[x])\n",
    "        \n",
    "    return arrayX, arrayY"
   ]
  },
  {
   "cell_type": "code",
   "execution_count": 5,
   "metadata": {
    "id": "6YOq5bPj3YUb"
   },
   "outputs": [],
   "source": [
    "def shuffle(X1,X2):\n",
    "    X3 = list(zip(X1,X2))\n",
    "    random.shuffle(X3)\n",
    "    X1,X2 = zip(*X3)\n",
    "    return X1,X2"
   ]
  },
  {
   "cell_type": "code",
   "execution_count": 6,
   "metadata": {
    "id": "RF0MeYXC3YW9"
   },
   "outputs": [],
   "source": [
    "def train_test_split(array1,array2,train_size):\n",
    "        len_array1 = len(array1)\n",
    "        len_array2 = len(array2)\n",
    "        array1_train_size = int(train_size*len_array1)\n",
    "        array2_train_size = int(train_size*len_array2)\n",
    "        X_train = array1[:array1_train_size]\n",
    "        Y_train = array2[:array1_train_size]\n",
    "        X_test = array1[array2_train_size:]\n",
    "        Y_test = array2[array2_train_size:]\n",
    "        return X_train,Y_train,X_test,Y_test"
   ]
  },
  {
   "cell_type": "code",
   "execution_count": 7,
   "metadata": {
    "id": "F3g0w7fI0oPW"
   },
   "outputs": [],
   "source": [
    "# Calculating accuracy\n",
    "def accuracy_s(y_true,y_pred):\n",
    "    len_of_t = len(y_true)\n",
    "    len_of_p = len(y_pred)\n",
    "    true = 0\n",
    "    if len_of_t != len_of_p:\n",
    "        print(\"The sizes are not matched !\")\n",
    "    else:\n",
    "        for _ in range(len_of_t):\n",
    "            if y_true[_]==y_pred[_]:\n",
    "                true += 1\n",
    "    \n",
    "    accuracy = true/len_of_t\n",
    "    return accuracy"
   ]
  },
  {
   "cell_type": "code",
   "execution_count": 8,
   "metadata": {
    "colab": {
     "base_uri": "https://localhost:8080/"
    },
    "id": "Ezxxka5y3Ybb",
    "outputId": "5fb0354f-3409-4009-cf40-bdca8a2ed2fe"
   },
   "outputs": [
    {
     "name": "stdout",
     "output_type": "stream",
     "text": [
      "class 1 len:  656\n",
      "class 1 data type:  <class 'list'>\n",
      "class 1 image size (multiplicated):  (160000,)\n",
      "class 2 len:  656\n",
      "class 2 data type:  <class 'list'>\n",
      "class 2 image size (multiplicated):  (160000,)\n",
      "class 1 y len:  656\n"
     ]
    }
   ],
   "source": [
    "array1,array2,ones,zeros=numpy_arrays(path1,path2)\n",
    "print('class 1 len: ',len(array1))\n",
    "print('class 1 data type: ',type(array1))\n",
    "print('class 1 image size (multiplicated): ',array1[1].shape)\n",
    "print('class 2 len: ',len(array2))\n",
    "print('class 2 data type: ',type(array2))\n",
    "print('class 2 image size (multiplicated): ',array2[1].shape)\n",
    "print('class 1 y len: ',len(ones))"
   ]
  },
  {
   "cell_type": "code",
   "execution_count": 9,
   "metadata": {
    "colab": {
     "base_uri": "https://localhost:8080/"
    },
    "id": "2iTTUFrN3YeI",
    "outputId": "979e2176-71b5-4739-f665-712dbc8214fe"
   },
   "outputs": [
    {
     "data": {
      "text/plain": [
       "1312"
      ]
     },
     "execution_count": 9,
     "metadata": {},
     "output_type": "execute_result"
    }
   ],
   "source": [
    "# This part is used to concancate class arrays and their y values\n",
    "arrayX,arrayY = conc_lists(array1,array2,ones,zeros)\n",
    "len(arrayY)"
   ]
  },
  {
   "cell_type": "code",
   "execution_count": 10,
   "metadata": {
    "colab": {
     "base_uri": "https://localhost:8080/"
    },
    "id": "-Ww9y0EZ3Ygn",
    "outputId": "b23172ac-76f1-4943-d0dd-365229e5419b"
   },
   "outputs": [
    {
     "data": {
      "text/plain": [
       "1312"
      ]
     },
     "execution_count": 10,
     "metadata": {},
     "output_type": "execute_result"
    }
   ],
   "source": [
    "# This part is used to shuffle all data with same way.\n",
    "# After running, we have more realistic data to classificate\n",
    "array_X,array_Y = shuffle(arrayX,arrayY)\n",
    "len(array_X)"
   ]
  },
  {
   "cell_type": "code",
   "execution_count": 77,
   "metadata": {
    "colab": {
     "base_uri": "https://localhost:8080/"
    },
    "id": "g6GkUQws3YjY",
    "outputId": "aaab6b28-74b3-4888-f29a-331bc5001232"
   },
   "outputs": [
    {
     "name": "stdout",
     "output_type": "stream",
     "text": [
      "length of X values of train data:  1180\n",
      "length of Y values of train data:  1180\n",
      "length of X values of test data:  132\n",
      "length of Y values of test data:  132\n"
     ]
    }
   ],
   "source": [
    "# This part is to split the data into train and test datas.\n",
    "train_X,train_Y,test_X,test_Y=train_test_split(array_X,array_Y,train_size=0.9)\n",
    "print('length of X values of train data: ',len(train_X))\n",
    "print('length of Y values of train data: ',len(train_Y))\n",
    "print('length of X values of test data: ',len(test_X))\n",
    "print('length of Y values of test data: ',len(test_Y))\n",
    "train_X = np.array(train_X)\n",
    "train_Y = np.array(train_Y)\n",
    "test_X = np.array(test_X)\n",
    "test_Y = np.array(test_Y)"
   ]
  },
  {
   "cell_type": "code",
   "execution_count": 78,
   "metadata": {
    "id": "4Yf3XEe-V-PI"
   },
   "outputs": [],
   "source": [
    "# Normalizing the datas #\n",
    "standard_X_train =  (train_X - np.average(train_X)) / (np.std(train_X))\n",
    "standard_X_test =  (test_X - np.average(test_X)) / (np.std(test_X))"
   ]
  },
  {
   "cell_type": "code",
   "execution_count": null,
   "metadata": {
    "id": "CFHrMg6t4SZL"
   },
   "outputs": [],
   "source": [
    "#### Classification with 2-Layer NN ####"
   ]
  },
  {
   "cell_type": "code",
   "execution_count": 13,
   "metadata": {
    "id": "1SOL4obeOwML"
   },
   "outputs": [],
   "source": [
    "def ReLU(x):\n",
    "    return np.maximum(0,x)"
   ]
  },
  {
   "cell_type": "code",
   "execution_count": 15,
   "metadata": {
    "id": "TBl69LDtbnMM"
   },
   "outputs": [],
   "source": [
    "def deriv_ReLU(x):\n",
    "    return np.where(x <= 0,0,1)"
   ]
  },
  {
   "cell_type": "code",
   "execution_count": 16,
   "metadata": {
    "id": "iaYErcyVWCKP"
   },
   "outputs": [],
   "source": [
    "def sigmoid_function(x):\n",
    "    z = 1.0 / (1.0 + np.exp(-1*x))\n",
    "    return z"
   ]
  },
  {
   "cell_type": "code",
   "execution_count": 17,
   "metadata": {
    "id": "QIYEYEu9WRW6"
   },
   "outputs": [],
   "source": [
    "def deriv_sigmoid_function(x):\n",
    "    deriv = sigmoid_function(x)*(1-sigmoid_function(x))\n",
    "    return deriv"
   ]
  },
  {
   "cell_type": "markdown",
   "metadata": {},
   "source": [
    "## Constructing the Neural Network \n",
    "\n",
    "1. Every image has 400x400 size, meaning that, there are 160000 features\n",
    "2. Our Neural Network will have 4 layers: **input, hidden 1, hidden 2, output**\n",
    "3. Input layer should have 160000 nodes. For this project, there will be 64 and 32 neurons in hidden 1 and 2, respectively.\n",
    "4. Since this is a binary classification task, there must be 2 nodes in output layer. However, we can also use 1 node.\n",
    "5. Therefore, our NN can be structured as **[160000, 64, 32, 1]**\n",
    "6. In this neural network, **ReLU is going to be used as activation function, and Sigmoid in the output layer**\n",
    "7. Also, **binary cross-entropy** loss should be used for binary classification task\n"
   ]
  },
  {
   "cell_type": "code",
   "execution_count": 94,
   "metadata": {
    "id": "q_-VrPp9EA5W"
   },
   "outputs": [],
   "source": [
    "NN_structure = [160000, 64, 32, 1]"
   ]
  },
  {
   "cell_type": "markdown",
   "metadata": {},
   "source": [
    "## Parameter Initialization\n",
    "\n",
    "1. Parameters must be kept in directories. This is one of the best method to deal with Neural Networks\n",
    "2. Since we have 4 layers (i, h1, h2, o), there must be 3 weight and bias matrices\n",
    "3. Parameter initialization is quite important to have optimal results.\n",
    "4. Different initalization will have significant effects on train-test accuracies and losses"
   ]
  },
  {
   "cell_type": "code",
   "execution_count": 97,
   "metadata": {
    "id": "eT-MLJGZHGQo"
   },
   "outputs": [],
   "source": [
    "param_inits = {}\n",
    "nodes_input = NN_structure[0]\n",
    "neurons_hidden1 = NN_structure[1]\n",
    "neurons_hidden2 = NN_structure[2]\n",
    "nodes_output = NN_structure[3]\n",
    "param_inits = {\n",
    "    'w1':np.random.randn(neurons_hidden1,nodes_input) * 0.1, # 64 x 160000\n",
    "    'w2':np.random.randn(neurons_hidden2,neurons_hidden1) * 0.1, # 32 x 64\n",
    "    'w3':np.random.randn(nodes_output,neurons_hidden2) * 0.1, # 1 x 32\n",
    "    'b1':np.zeros((neurons_hidden1,1)), # 64 x 1\n",
    "    'b2':np.zeros((neurons_hidden2,1)), # 32 x 1\n",
    "    'b3':np.zeros((nodes_output,1)) # 1 x 1 \n",
    "}"
   ]
  },
  {
   "cell_type": "code",
   "execution_count": 68,
   "metadata": {
    "colab": {
     "base_uri": "https://localhost:8080/"
    },
    "id": "fTA8i_pi7ocC",
    "outputId": "f93e565e-b3ab-48e3-b7af-7b66f73eacea"
   },
   "outputs": [
    {
     "data": {
      "text/plain": [
       "array([[-0.04512706,  0.13849104,  0.20473381, ..., -0.00205268,\n",
       "         0.11231211,  0.14708011],\n",
       "       [-0.01254135,  0.01355994,  0.08764705, ..., -0.02592299,\n",
       "         0.0186411 ,  0.029131  ],\n",
       "       [ 0.11274535,  0.00312907,  0.02775935, ...,  0.04785185,\n",
       "        -0.0204601 , -0.01515419],\n",
       "       ...,\n",
       "       [ 0.14565289, -0.17898843,  0.10777891, ...,  0.07292534,\n",
       "         0.06286869,  0.1256674 ],\n",
       "       [-0.04013923, -0.12563509, -0.04489789, ...,  0.01724786,\n",
       "         0.16121285, -0.0612754 ],\n",
       "       [ 0.01524406,  0.08238117, -0.09101522, ..., -0.05226903,\n",
       "         0.09109471, -0.16983635]])"
      ]
     },
     "execution_count": 68,
     "metadata": {},
     "output_type": "execute_result"
    }
   ],
   "source": [
    "param_inits['w1']"
   ]
  },
  {
   "cell_type": "code",
   "execution_count": 70,
   "metadata": {
    "colab": {
     "base_uri": "https://localhost:8080/"
    },
    "id": "4RkSuTad-KBN",
    "outputId": "e970d92a-522c-4739-da96-c089b1a795e1"
   },
   "outputs": [
    {
     "data": {
      "text/plain": [
       "1180"
      ]
     },
     "execution_count": 70,
     "metadata": {},
     "output_type": "execute_result"
    }
   ],
   "source": [
    "len(train_Y)"
   ]
  },
  {
   "cell_type": "markdown",
   "metadata": {},
   "source": [
    "### Loss Function\n",
    "Binary Cross-Entropy Loss will be used for this binary classification task"
   ]
  },
  {
   "cell_type": "code",
   "execution_count": 81,
   "metadata": {
    "id": "0mtT0-2heLKT"
   },
   "outputs": [],
   "source": [
    "def Binary_Cross_Entropy(y, t):\n",
    "    lenx = len(y)\n",
    "    loss = np.dot(t,np.log(y).T) + np.dot((1-t),np.log((1-y)).T)\n",
    "    lossf = -loss/lenx\n",
    "    lossff = float(np.squeeze(lossf))\n",
    "    return lossff"
   ]
  },
  {
   "cell_type": "markdown",
   "metadata": {},
   "source": [
    "## Forward Propagation\n",
    "\n",
    "##### For this code, N_n means net (not activated) for layer n; O_n means out (activated) for layer n\n",
    "\n",
    "Forward propagation is the process to build mathematical relationship between inputs and outputs. <br>\n",
    "To do this, weights and biases are used. The process is actually simple matrix multiplication **y = w.x + b** <br>\n",
    "This multiplication gives not activated results. Neural networks use nonlinear activation functions to have better solutions **(universal approximation theorem)** <br>\n",
    "For this project, **ReLU** was used as activation function in hidden layers and **Sigmoid** for the output layer."
   ]
  },
  {
   "cell_type": "code",
   "execution_count": 82,
   "metadata": {
    "id": "P2sJUAiBWRdG"
   },
   "outputs": [],
   "source": [
    "# Forward propagation #\n",
    "# N_n = net for layer n (unactivated)\n",
    "# O_n = outputs for layer n (activated)\n",
    "def forward_prop(X, parameters):\n",
    "\n",
    "    params = parameters\n",
    "    \n",
    "    # hidden layer 1\n",
    "    params['N_1'] = np.dot(params['w1'], X.T) + params['b1']\n",
    "    params['O_1'] = ReLU(params['N_1'])\n",
    "    #print('O_1: ', params['O_1'])\n",
    "    # hidden layer 2\n",
    "    params['N_2'] = np.dot(params['w2'], params['O_1']) + params['b2']\n",
    "    params['O_2'] = ReLU(params['N_2'])\n",
    "    #print('O_2: ', params['O_2'])\n",
    "    # output layer\n",
    "    params['N_3'] = np.dot(params['w3'],params['O_2']) + params['b3']\n",
    "    params['O_3'] = sigmoid_function(params['N_3'])\n",
    "\n",
    "    return params,params['O_3']"
   ]
  },
  {
   "attachments": {
    "Chain.png": {
     "image/png": "[encoded data removed]"
    }
   },
   "cell_type": "markdown",
   "metadata": {},
   "source": [
    "## Back Propagation\n",
    "\n",
    "Back propagation is the process to optimize the parameters to have better results. <br>\n",
    "To do this, chain rule is used to optimize the parameters. <br>\n",
    "![Chain.png](attachment:Chain.png)"
   ]
  },
  {
   "attachments": {
    "Chain_2.png": {
     "image/png": "[encoded data removed]"
    }
   },
   "cell_type": "markdown",
   "metadata": {},
   "source": [
    "The goal is basically to measure the effect of a weight on loss function. As it is said, ReLU and Sigmoid was used in this project. Sigmoid with Binary Cross-Entropy loss gives mathematical easiness to calculate the partial derivatives <br>\n",
    "![Chain_2.png](attachment:Chain_2.png) <br>\n",
    "This gives **(y - t)** which is **(forward_out - Y)** in the code."
   ]
  },
  {
   "cell_type": "markdown",
   "metadata": {},
   "source": [
    "**Every db and db value must be calculated before coding. Different activation - loss function can give different results !**"
   ]
  },
  {
   "cell_type": "code",
   "execution_count": 83,
   "metadata": {
    "id": "TjxOh6-wYDQ_"
   },
   "outputs": [],
   "source": [
    "# Back propagation #\n",
    "def back_prop_upd(X,Y, parameters, forward_out,learning_rate):\n",
    "    params = parameters\n",
    "    len = X.shape[0]\n",
    "    dO = forward_out - Y\n",
    "    # Update w3 and b3\n",
    "    dw3 = np.dot(dO,params['O_2'].T) * (1/len) # Binary Cross-Entropy * Sigmoid * N_3 Partial Derivatives\n",
    "    db3 = np.sum(dO, axis=1, keepdims= True) * (1/len) \n",
    "\n",
    "    #Update w2 and b2\n",
    "    dZ2 = np.dot(params['w3'].T,dO) * deriv_ReLU(params['N_2'])\n",
    "    #print('dZ2: ',dZ2)\n",
    "    dw2 = np.dot(dZ2, params['O_1'].T) * (1/len)\n",
    "    db2 = np.sum(dZ2, axis= 1, keepdims = True) * (1/len)\n",
    "\n",
    "    #Update w1 and b1\n",
    "    dZ3 = np.dot(params['w2'].T,dZ2) * deriv_ReLU(params['N_1'])\n",
    "    dw1 = np.dot(dZ3,X) * (1/len)\n",
    "    db1 = np.sum(dZ3, axis= 1, keepdims = True) * (1/len)\n",
    "    #print('dZ3: ',dZ3)\n",
    "\n",
    "    # Updating\n",
    "    params['w3'] = params['w3'] - learning_rate * dw3\n",
    "    params['b3'] = params['b3'] - learning_rate * db3\n",
    "    params['w2'] = params['w2'] - learning_rate * dw2\n",
    "    params['b2'] = params['b2'] - learning_rate * db2\n",
    "    params['w1'] = params['w1'] - learning_rate * dw1\n",
    "    params['b1'] = params['b1'] - learning_rate * db1\n",
    "\n",
    "    return params"
   ]
  },
  {
   "cell_type": "markdown",
   "metadata": {},
   "source": [
    "### Observing overfitting\n",
    "In this part, the goal is to observe changing in loss and accuracies in train and test data. <br>\n",
    "The expected thing is **<i/> underfitting - overfitting <i/>** during the iterations. <br>\n",
    "But, it might not be possible to see expected results because of the data. <br>\n",
    "If inputs and outputs have weak or no relationship. The results might be unexpected. <br>\n",
    "\n",
    "The output of this code means that: <br>\n",
    "1- Training loss decreases during epochs <br>\n",
    "2- Test loss increases during epochs <br>\n",
    "3- Both accuracies increase during epochs <br>\n",
    "These are the signs of overfitting. <br>\n",
    "In the first few iterations errors have their highest values and rapidly decreases. Therefore, underfitting period is quite short. <br>\n",
    "Dataset might be changed to observe clearer results."
   ]
  },
  {
   "cell_type": "code",
   "execution_count": 96,
   "metadata": {
    "colab": {
     "base_uri": "https://localhost:8080/"
    },
    "id": "dLGJ29womjpX",
    "outputId": "6d33c1e8-f762-4a40-8b8f-be476c11467e"
   },
   "outputs": [
    {
     "name": "stdout",
     "output_type": "stream",
     "text": [
      "Epoch:  20\n",
      "train loss:  750.8462816538123\n",
      "test loss:  98.52706286898551\n",
      "train accuracy:  0.6228813559322034\n",
      "test accuracy:  0.4393939393939394\n",
      "Epoch:  40\n",
      "train loss:  687.997281863961\n",
      "test loss:  105.95461952825474\n",
      "train accuracy:  0.6754237288135593\n",
      "test accuracy:  0.4090909090909091\n",
      "Epoch:  60\n",
      "train loss:  611.5840025214255\n",
      "test loss:  119.4658338656828\n",
      "train accuracy:  0.7389830508474576\n",
      "test accuracy:  0.42424242424242425\n",
      "Epoch:  80\n",
      "train loss:  528.6072610535875\n",
      "test loss:  138.2063583968363\n",
      "train accuracy:  0.7830508474576271\n",
      "test accuracy:  0.42424242424242425\n",
      "Epoch:  100\n",
      "train loss:  448.2877617847417\n",
      "test loss:  160.01969868403177\n",
      "train accuracy:  0.8245762711864407\n",
      "test accuracy:  0.4318181818181818\n",
      "Epoch:  120\n",
      "train loss:  369.51377227680655\n",
      "test loss:  182.35607320683133\n",
      "train accuracy:  0.8533898305084746\n",
      "test accuracy:  0.4772727272727273\n",
      "Epoch:  140\n",
      "train loss:  307.3320902229566\n",
      "test loss:  204.24015596652774\n",
      "train accuracy:  0.8720338983050847\n",
      "test accuracy:  0.4696969696969697\n",
      "Epoch:  160\n",
      "train loss:  253.82556615287993\n",
      "test loss:  225.4400952520595\n",
      "train accuracy:  0.888135593220339\n",
      "test accuracy:  0.4696969696969697\n",
      "Epoch:  180\n",
      "train loss:  218.87106031839835\n",
      "test loss:  246.20896463557568\n",
      "train accuracy:  0.8991525423728813\n",
      "test accuracy:  0.4772727272727273\n",
      "Epoch:  200\n",
      "train loss:  195.38453661978724\n",
      "test loss:  264.77396492561957\n",
      "train accuracy:  0.9093220338983051\n",
      "test accuracy:  0.4696969696969697\n",
      "Epoch:  220\n",
      "train loss:  178.09024840675443\n",
      "test loss:  281.51848524062257\n",
      "train accuracy:  0.9169491525423729\n",
      "test accuracy:  0.48484848484848486\n",
      "Epoch:  240\n",
      "train loss:  169.3064728397046\n",
      "test loss:  296.04382630779696\n",
      "train accuracy:  0.9186440677966101\n",
      "test accuracy:  0.5\n",
      "Epoch:  260\n",
      "train loss:  161.21214722599063\n",
      "test loss:  310.3638065922427\n",
      "train accuracy:  0.9203389830508475\n",
      "test accuracy:  0.49242424242424243\n",
      "Epoch:  280\n",
      "train loss:  156.47422894323637\n",
      "test loss:  318.93948843291406\n",
      "train accuracy:  0.9211864406779661\n",
      "test accuracy:  0.49242424242424243\n",
      "Epoch:  300\n",
      "train loss:  151.35063541889275\n",
      "test loss:  326.70380240377824\n",
      "train accuracy:  0.923728813559322\n",
      "test accuracy:  0.4772727272727273\n"
     ]
    }
   ],
   "source": [
    "# Running Neural Network\n",
    "\n",
    "learning_rate = 0.05\n",
    "epochs = 300\n",
    "threshold = 0.5\n",
    "train_loss_list = []\n",
    "test_loss_list = []\n",
    "for i in range(epochs):\n",
    "    i += 1\n",
    "    params1, forward_out1 = forward_prop(standard_X_train,param_inits)\n",
    "    new_params = back_prop_upd(standard_X_train, train_Y, params1, forward_out1, learning_rate)\n",
    "    param_inits = new_params\n",
    "    if i % 20 == 0:\n",
    "        print('Epoch: ', i)\n",
    "        #params_tr, y_t_pred = forward_prop(standard_X_train, new_params)\n",
    "        loss = Binary_Cross_Entropy(forward_out1, train_Y)\n",
    "        train_loss_list.append(loss)\n",
    "        print('train loss: ', loss)\n",
    "        predictions = (forward_out1 > threshold)\n",
    "        pred_list = predictions[0]\n",
    "        params_t, ypred = forward_prop(standard_X_test, new_params)\n",
    "        test_loss = Binary_Cross_Entropy(ypred, test_Y)\n",
    "        test_loss_list.append(test_loss)\n",
    "        predictions_t = (ypred > threshold)\n",
    "        pred_list_t = predictions_t[0]\n",
    "        print('test loss: ', test_loss)\n",
    "        print('train accuracy: ', accuracy_s(pred_list, train_Y))\n",
    "        print('test accuracy: ', accuracy_s(pred_list_t, test_Y))"
   ]
  },
  {
   "cell_type": "code",
   "execution_count": 98,
   "metadata": {
    "colab": {
     "base_uri": "https://localhost:8080/"
    },
    "id": "8rWHDzD-av5O",
    "outputId": "f191dd70-b6ff-4d9d-afbf-07628db360ef"
   },
   "outputs": [
    {
     "name": "stderr",
     "output_type": "stream",
     "text": [
      "/usr/local/lib/python3.7/dist-packages/ipykernel_launcher.py:6: RuntimeWarning: divide by zero encountered in log\n",
      "  \n"
     ]
    }
   ],
   "source": [
    "# Running Neural Network\n",
    "\n",
    "learning_rate = 0.05\n",
    "epochs = 180\n",
    "threshold = 0.5\n",
    "trainp_loss_list = []\n",
    "testp_loss_list = []\n",
    "for i in range(epochs):\n",
    "    i += 1\n",
    "    params1, forward_out1 = forward_prop(standard_X_train,param_inits)\n",
    "    new_params = back_prop_upd(standard_X_train, train_Y, params1, forward_out1, learning_rate)\n",
    "    param_inits = new_params\n",
    "    loss = Binary_Cross_Entropy(forward_out1, train_Y)\n",
    "    trainp_loss_list.append(loss)\n",
    "    predictions = (forward_out1 > threshold)\n",
    "    pred_list = predictions[0]\n",
    "    params_t, ypred = forward_prop(standard_X_test, new_params)\n",
    "    test_loss = Binary_Cross_Entropy(ypred, test_Y)\n",
    "    testp_loss_list.append(test_loss)\n",
    "    predictions_t = (ypred > threshold)\n",
    "    pred_list_t = predictions_t[0]"
   ]
  },
  {
   "cell_type": "code",
   "execution_count": 99,
   "metadata": {
    "id": "vGTCCU1wMKJ4"
   },
   "outputs": [],
   "source": [
    "iterations = []\n",
    "c = 0\n",
    "for i in range(180):\n",
    "    c += 1\n",
    "    iterations.append(c)\n"
   ]
  },
  {
   "cell_type": "code",
   "execution_count": 100,
   "metadata": {
    "colab": {
     "base_uri": "https://localhost:8080/"
    },
    "id": "Q2EMP2FCMs-Z",
    "outputId": "d8e376f1-be40-4d18-81d3-1a6ceea672fa"
   },
   "outputs": [
    {
     "data": {
      "text/plain": [
       "180"
      ]
     },
     "execution_count": 100,
     "metadata": {},
     "output_type": "execute_result"
    }
   ],
   "source": [
    "len(iterations)"
   ]
  },
  {
   "cell_type": "code",
   "execution_count": 101,
   "metadata": {
    "colab": {
     "base_uri": "https://localhost:8080/",
     "height": 320
    },
    "id": "XCJ2N_NTMiZs",
    "outputId": "03c8fec2-b30d-495e-e141-5eb187c58af7"
   },
   "outputs": [
    {
     "data": {
      "image/png": "[encoded data removed]",
      "text/plain": [
       "<Figure size 720x360 with 1 Axes>"
      ]
     },
     "metadata": {
      "needs_background": "light"
     },
     "output_type": "display_data"
    }
   ],
   "source": [
    "plt.rcParams['figure.figsize']=[10,5]\n",
    "b = trainp_loss_list\n",
    "c = testp_loss_list\n",
    "a = iterations\n",
    "plt.plot(a,b,label = 'Train error')\n",
    "plt.plot(a,c,label = 'Validation error')\n",
    "plt.legend()\n",
    "plt.grid(True)\n",
    "plt.show()"
   ]
  },
  {
   "cell_type": "code",
   "execution_count": 106,
   "metadata": {
    "colab": {
     "base_uri": "https://localhost:8080/",
     "height": 320
    },
    "id": "dydmQ-5ohhZh",
    "outputId": "19410f4f-d7a8-47a2-a2e3-94c9658468b2"
   },
   "outputs": [
    {
     "data": {
      "image/png": "[encoded data removed]",
      "text/plain": [
       "<Figure size 720x360 with 1 Axes>"
      ]
     },
     "metadata": {
      "needs_background": "light"
     },
     "output_type": "display_data"
    }
   ],
   "source": [
    "plt.rcParams['figure.figsize']=[10,5]\n",
    "b = trainp_loss_list[3:]\n",
    "c = testp_loss_list[3:]\n",
    "a = iterations[3:]\n",
    "plt.plot(a,b,label = 'Train error')\n",
    "plt.plot(a,c,label = 'Validation error')\n",
    "plt.legend()\n",
    "plt.grid(True)\n",
    "plt.show()"
   ]
  }
 ],
 "metadata": {
  "colab": {
   "collapsed_sections": [],
   "provenance": []
  },
  "kernelspec": {
   "display_name": "Python 3 (ipykernel)",
   "language": "python",
   "name": "python3"
  },
  "language_info": {
   "codemirror_mode": {
    "name": "ipython",
    "version": 3
   },
   "file_extension": ".py",
   "mimetype": "text/x-python",
   "name": "python",
   "nbconvert_exporter": "python",
   "pygments_lexer": "ipython3",
   "version": "3.9.12"
  }
 },
 "nbformat": 4,
 "nbformat_minor": 1
}
